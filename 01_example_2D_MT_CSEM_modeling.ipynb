{
 "cells": [
  {
   "cell_type": "markdown",
   "metadata": {},
   "source": [
    "# 2-D modeling with GoFEM: a half-space example"
   ]
  },
  {
   "cell_type": "markdown",
   "metadata": {},
   "source": [
    "This notebook shows how to setup a simple halfs-space model and parameter files for GoFEM\n",
    "\n",
    "*Created by A. Grayver, 2019*"
   ]
  },
  {
   "cell_type": "markdown",
   "metadata": {},
   "source": [
    "Let us start by including some common packages"
   ]
  },
  {
   "cell_type": "code",
   "execution_count": 39,
   "metadata": {},
   "outputs": [],
   "source": [
    "import os\n",
    "import sys\n",
    "import math\n",
    "import numpy as np\n",
    "import matplotlib.pyplot as plt\n",
    "import matplotlib.colors as colors\n",
    "\n",
    "%matplotlib inline"
   ]
  },
  {
   "cell_type": "markdown",
   "metadata": {},
   "source": [
    "Next, let the python know where deal.II's python package lives and also include pyGoFEM tools"
   ]
  },
  {
   "cell_type": "code",
   "execution_count": 40,
   "metadata": {},
   "outputs": [],
   "source": [
    "from gofem.parameter_handler import *\n",
    "from gofem.mesh_utils import *\n",
    "\n",
    "module_path = os.path.abspath('/user/lib/dealii/build/lib/python3.7/site-packages')\n",
    "if module_path not in sys.path:\n",
    "    sys.path.append(module_path)\n",
    "\n",
    "import PyDealII.Release as dealii"
   ]
  },
  {
   "cell_type": "markdown",
   "metadata": {},
   "source": [
    "## Creating mesh and defining model properties"
   ]
  },
  {
   "cell_type": "markdown",
   "metadata": {},
   "source": [
    "Create an initial coarse mesh."
   ]
  },
  {
   "cell_type": "code",
   "execution_count": 41,
   "metadata": {},
   "outputs": [],
   "source": [
    "dy = np.ones(shape=5) * 1e5\n",
    "dz = np.array([100, 80, 60, 60, 80, 100], dtype = np.float64) * 1000\n",
    "mesh_size = np.array([np.sum(dy), np.sum(dz)])\n",
    "\n",
    "p_origin = dealii.Point((-mesh_size / 2.).tolist())\n",
    "p_end = dealii.Point((mesh_size / 2.).tolist())\n",
    "\n",
    "triangulation = dealii.Triangulation('2D')\n",
    "triangulation.generate_subdivided_steps_hyper_rectangle([dy.tolist(), dz.tolist()], p_origin, p_end, False)"
   ]
  },
  {
   "cell_type": "markdown",
   "metadata": {},
   "source": [
    "Now we can plot the mesh:"
   ]
  },
  {
   "cell_type": "code",
   "execution_count": 42,
   "metadata": {},
   "outputs": [
    {
     "data": {
      "image/png": "[encoded data removed]",
      "text/plain": [
       "<Figure size 432x288 with 1 Axes>"
      ]
     },
     "metadata": {
      "needs_background": "light"
     },
     "output_type": "display_data"
    }
   ],
   "source": [
    "fig, ax = plot_2d_triangulation(triangulation)"
   ]
  },
  {
   "cell_type": "markdown",
   "metadata": {},
   "source": [
    "This mesh is still rather coarse. Theory says, that in order to get an accurate solution, we need to refine at\n",
    "* Conductivity contrasts\n",
    "* Receiver locations\n",
    "\n",
    "We can address this problem by refining the mesh globally several times:"
   ]
  },
  {
   "cell_type": "code",
   "execution_count": 43,
   "metadata": {},
   "outputs": [
    {
     "data": {
      "text/plain": [
       "(<Figure size 432x288 with 1 Axes>,\n",
       " <matplotlib.axes._subplots.AxesSubplot at 0x7efcd1b60710>)"
      ]
     },
     "execution_count": 43,
     "metadata": {},
     "output_type": "execute_result"
    },
    {
     "data": {
      "image/png": "[encoded data removed]",
      "text/plain": [
       "<Figure size 432x288 with 1 Axes>"
      ]
     },
     "metadata": {
      "needs_background": "light"
     },
     "output_type": "display_data"
    }
   ],
   "source": [
    "triangulation.refine_global(1)\n",
    "plot_2d_triangulation(triangulation)"
   ]
  },
  {
   "cell_type": "markdown",
   "metadata": {},
   "source": [
    "This is very inefficient, because each time we refine globally, number of cells is multiplied by four. \n",
    "\n",
    "One of the most powerful features of GoFEM is locally refined meshes, which allow us to refine only in regions where it is needed. like at the air-ground interface. To do that, we first need to assign some physical properties to cells. We mark each cell with a material id. In particular, all cells above the ground are given material id one and the rest will have id two:"
   ]
  },
  {
   "cell_type": "code",
   "execution_count": 44,
   "metadata": {},
   "outputs": [],
   "source": [
    "for cell in triangulation.active_cells():\n",
    "    if cell.center().y < 0:\n",
    "        cell.material_id = 1\n",
    "    else:\n",
    "        cell.material_id = 2"
   ]
  },
  {
   "cell_type": "markdown",
   "metadata": {},
   "source": [
    "Note that in the deal.II notation, the two dimensional coordinate system is (X,Y) and we cannot change it at this stage.\n",
    "\n",
    "However, the GoFEM convention is to use local NED coordinate system with Z pointing down, X pointing to the North and Y to the east. However, for 2D, the GoFEM takes X to be the strike direction, hence we are left with the (Y,Z) coordinate system. Therefore, we need to keep in mind that deal.II's (X,Y) system corresponds to the GoFEM's (Y,Z) system in 2D. GoFEM does this conversion internally, but here, for the mesh generation, we need to do it manually. This is the reason we invoke the *Y* coordinate of each cell's to check if the cell is in the air or under the surface. \n",
    "\n",
    "We now need to actually assign some physical conductivity values (and names, for that matter) to the used id numbers. Let us simply use a python dictionary for that"
   ]
  },
  {
   "cell_type": "code",
   "execution_count": 45,
   "metadata": {},
   "outputs": [],
   "source": [
    "materials = {1: ('air', 1e-8), 2: ('ground', 0.01)}"
   ]
  },
  {
   "cell_type": "markdown",
   "metadata": {},
   "source": [
    "Here, each material id is linked to a pair of values, representing its name and conductivity value (in *S/m*). This allows us to plot the mesh with conductivity assigned to each cell"
   ]
  },
  {
   "cell_type": "code",
   "execution_count": 46,
   "metadata": {},
   "outputs": [
    {
     "data": {
      "text/plain": [
       "<matplotlib.colorbar.Colorbar at 0x7efcd2a3a2e8>"
      ]
     },
     "execution_count": 46,
     "metadata": {},
     "output_type": "execute_result"
    },
    {
     "data": {
      "image/png": "[encoded data removed]",
      "text/plain": [
       "<Figure size 432x288 with 2 Axes>"
      ]
     },
     "metadata": {
      "needs_background": "light"
     },
     "output_type": "display_data"
    }
   ],
   "source": [
    "def color(cell):\n",
    "    return materials[cell.material_id][1]\n",
    "\n",
    "fig, ax = plot_2d_triangulation(triangulation, color_scheme=color)\n",
    "fig.colorbar(ax.collections[0], ax=ax,\\\n",
    "             orientation = 'vertical',\\\n",
    "             label = r'$\\sigma$ (S/m)',\\\n",
    "             norm=colors.LogNorm(vmin = 1e-8, vmax = 1e-2),\\\n",
    "             extend='max')"
   ]
  },
  {
   "cell_type": "markdown",
   "metadata": {},
   "source": [
    "Finally, we can call a convenience function to refine at the air-ground interface"
   ]
  },
  {
   "cell_type": "code",
   "execution_count": 47,
   "metadata": {},
   "outputs": [
    {
     "data": {
      "text/plain": [
       "(<Figure size 432x288 with 1 Axes>,\n",
       " <matplotlib.axes._subplots.AxesSubplot at 0x7efcd292f748>)"
      ]
     },
     "execution_count": 47,
     "metadata": {},
     "output_type": "execute_result"
    },
    {
     "data": {
      "image/png": "[encoded data removed]",
      "text/plain": [
       "<Figure size 432x288 with 1 Axes>"
      ]
     },
     "metadata": {
      "needs_background": "light"
     },
     "output_type": "display_data"
    }
   ],
   "source": [
    "refine_at_interface(triangulation, material_ids = [2], repeat = 2)\n",
    "plot_2d_triangulation(triangulation)"
   ]
  },
  {
   "cell_type": "markdown",
   "metadata": {},
   "source": [
    "In this case, we did it twice and we excluded the air itself from refinement since accuracy in the air is less important. We can further refine only the central part since our receivers will be placed there"
   ]
  },
  {
   "cell_type": "code",
   "execution_count": 48,
   "metadata": {},
   "outputs": [
    {
     "data": {
      "image/png": "[encoded data removed]",
      "text/plain": [
       "<Figure size 432x288 with 1 Axes>"
      ]
     },
     "metadata": {
      "needs_background": "light"
     },
     "output_type": "display_data"
    }
   ],
   "source": [
    "refine_at_interface(triangulation, material_ids = [2], repeat = 2, center = [0,0], radius = [50000])\n",
    "fig, ax = plot_2d_triangulation(triangulation)\n",
    "ax.set_xlim([-60000, 60000])\n",
    "ax.set_ylim([-20000, 20000])\n",
    "ax.invert_yaxis()"
   ]
  },
  {
   "cell_type": "markdown",
   "metadata": {},
   "source": [
    "Let us see how many cells we have now and what is the diameter of the smallest and largest cells"
   ]
  },
  {
   "cell_type": "code",
   "execution_count": 49,
   "metadata": {},
   "outputs": [
    {
     "name": "stdout",
     "output_type": "stream",
     "text": [
      "# of cells = 360\n",
      "smallest cell = 3644.3 m\n",
      "largest cell = 70710.7 m\n"
     ]
    }
   ],
   "source": [
    "print('# of cells = %d\\nsmallest cell = %0.1f m\\nlargest cell = %0.1f m' % (triangulation.n_active_cells(),\\\n",
    "                                                                      triangulation.minimal_cell_diameter(),\\\n",
    "                                                                      triangulation.maximal_cell_diameter()))"
   ]
  },
  {
   "cell_type": "markdown",
   "metadata": {},
   "source": [
    "This is still very modest number of cells, but we are getting there. Now, we can place some receivers at the surface and refine around these points. Again, we can use a convenience function from pyGoFEM and exclude air:"
   ]
  },
  {
   "cell_type": "code",
   "execution_count": 50,
   "metadata": {},
   "outputs": [
    {
     "name": "stdout",
     "output_type": "stream",
     "text": [
      "# of cells = 2904\n",
      "smallest cell = 227.8 m\n",
      "largest cell = 70710.7 m\n"
     ]
    },
    {
     "data": {
      "image/png": "[encoded data removed]",
      "text/plain": [
       "<Figure size 432x288 with 1 Axes>"
      ]
     },
     "metadata": {
      "needs_background": "light"
     },
     "output_type": "display_data"
    }
   ],
   "source": [
    "r_y = np.arange(-40000.1, 40000, 4000)\n",
    "receivers = []\n",
    "for y in r_y:\n",
    "    receivers.append([y, 0.1])\n",
    "    \n",
    "refine_around_points(triangulation, points = receivers,\\\n",
    "                     center = [0, 0], radius = [2000, 2000],\\\n",
    "                     repeat = 2, exclude_materials = [1])\n",
    "\n",
    "refine_around_points(triangulation, points = receivers,\\\n",
    "                     center = [0, 0], radius = [1000, 1000],\\\n",
    "                     repeat = 2, exclude_materials = [1])\n",
    "\n",
    "fig, ax = plot_2d_triangulation(triangulation)\n",
    "ax.set_xlim([-50000, 50000])\n",
    "ax.set_ylim([-10000, 20000])\n",
    "ax.invert_yaxis()\n",
    "ax.scatter(r_y, r_y*0 + 0.1, color='r', marker='v')\n",
    "\n",
    "print('# of cells = %d\\nsmallest cell = %0.1f m\\nlargest cell = %0.1f m' % (triangulation.n_active_cells(),\\\n",
    "                                                                      triangulation.minimal_cell_diameter(),\\\n",
    "                                                                      triangulation.maximal_cell_diameter()))"
   ]
  },
  {
   "cell_type": "markdown",
   "metadata": {},
   "source": [
    "## Creating input files for GoFEM"
   ]
  },
  {
   "cell_type": "markdown",
   "metadata": {},
   "source": [
    "Now, we can save the mesh, material properties and receivers in files that will be read by GoFEM:"
   ]
  },
  {
   "cell_type": "code",
   "execution_count": 51,
   "metadata": {},
   "outputs": [],
   "source": [
    "# save the mesh\n",
    "triangulation.save('./01/model.tria')\n",
    "\n",
    "# save the material properties\n",
    "with open('./01/model.materials', 'w') as f:\n",
    "    f.write('# id name conductivity permitivitty\\n')\n",
    "    f.write('iso\\n')\n",
    "    for mid,properties in materials.items():\n",
    "        f.write(\"%d %s %0.6e 0.\\n\" % (mid, properties[0], properties[1]))\n",
    "\n",
    "# save receivers\n",
    "with open('./01/receivers', 'w') as f:\n",
    "    f.write('# type name number_of_points x y z\\n')\n",
    "    idx = 0\n",
    "    for rec in receivers:\n",
    "        f.write(\"Dipole R%d 1 0. %0.6e %0.6e\\n\" % (idx, rec[0], rec[1]))\n",
    "        idx += 1\n",
    "        \n",
    "# save frequencies\n",
    "frequencies = np.logspace(-2, 2, 33)\n",
    "np.savetxt('./01/frequencies', frequencies, header = '# frequency (Hz)')"
   ]
  },
  {
   "cell_type": "markdown",
   "metadata": {},
   "source": [
    "In case you work with CSEM, you have to also setup sources. Example below creates an inline unit current electric dipole source placed at (0,1):"
   ]
  },
  {
   "cell_type": "code",
   "execution_count": 52,
   "metadata": {},
   "outputs": [],
   "source": [
    "with open('./01/sources', 'w') as f:\n",
    "    f.write('# type name field n_parts x y z moment_x moment_y moment_z current_re current_im\\n')\n",
    "    f.write(\"Dipole S1 E 1 0. 0. 1. 0. 1. 0. 1. 0.\\n\")"
   ]
  },
  {
   "cell_type": "markdown",
   "metadata": {},
   "source": [
    "Finally, we can create an input parameter file:"
   ]
  },
  {
   "cell_type": "code",
   "execution_count": 53,
   "metadata": {},
   "outputs": [],
   "source": [
    "prm = ParameterHandler(inversion = False, dim = 2)\n",
    "\n",
    "# Let's use quadratic elements for accuracy\n",
    "prm.setitem(section = 'Modeling',\\\n",
    "            parameter = 'Order',\\\n",
    "            value = 2)\n",
    "\n",
    "# Tell the code where to read all files from\n",
    "prm.setitem(section = 'Model',\\\n",
    "            parameter = 'Model definition file',\\\n",
    "            value = '../model.tria')\n",
    "prm.setitem(section = 'Model',\\\n",
    "            parameter = 'Materials definition file',\\\n",
    "            value = '../model.materials')\n",
    "\n",
    "prm.setitem(section = 'Survey',\\\n",
    "            parameter = 'Frequencies file',\n",
    "            value = '../frequencies')\n",
    "prm.setitem(section = 'Survey',\\\n",
    "            parameter = 'Stations file',\n",
    "            value = '../receivers')\n",
    "prm.setitem(section = 'Survey',\\\n",
    "            parameter = 'Sources file',\n",
    "            value = '../sources')\n",
    "\n",
    "prm.setitem(section = 'Output',\\\n",
    "            parameter = 'Type',\n",
    "            value = 'point')\n",
    "prm.setitem(section = 'Output',\\\n",
    "            parameter = 'Data file',\n",
    "            value = 'halfspace')\n",
    "\n",
    "prm.write('./01/input_modeling.prm')"
   ]
  },
  {
   "cell_type": "markdown",
   "metadata": {},
   "source": [
    "## Run the code"
   ]
  },
  {
   "cell_type": "markdown",
   "metadata": {},
   "source": [
    "Since this is a simple 2-D problem, modeling will not take long and we can run it from here"
   ]
  },
  {
   "cell_type": "code",
   "execution_count": 54,
   "metadata": {},
   "outputs": [],
   "source": [
    "import subprocess,shlex\n",
    "\n",
    "f = open(\"output.txt\", \"w\")\n",
    "args = shlex.split(\"gofem --parameter_file ../input_modeling.prm --task modeling --dim 2 --method MT\")\n",
    "proc = subprocess.Popen(args, stdout=f, stderr=f, cwd = './01/results')\n",
    "f.close()"
   ]
  },
  {
   "cell_type": "markdown",
   "metadata": {},
   "source": [
    "## Reading and plotting results"
   ]
  },
  {
   "cell_type": "markdown",
   "metadata": {},
   "source": [
    "Upon finishing, the GoFEM will output both the modelled fields at the receiver locations at all frequencies (and sources, for CSEM) as well as the VTU files with the model and its attributes (if this type of output is requested), such as conductivity, EM fields, etc. The former can be read using a pyGoFEM function, whereas the latter is a Paraview compatible format that you can visualize externally or, if you feel enthusiastic, you can also use the paraview from within the python. \n",
    "\n",
    "Below, we read the GoFEM modeling results at receivers by using the pandas:"
   ]
  },
  {
   "cell_type": "code",
   "execution_count": 59,
   "metadata": {},
   "outputs": [],
   "source": [
    "import pandas as pd\n",
    "\n",
    "rho_data = np.zeros(shape=(len(frequencies),len(receivers),2))\n",
    "phi_data = np.zeros(shape=(len(frequencies),len(receivers),2))\n",
    "for idx in range(len(frequencies)):\n",
    "    df = pd.read_csv('./01/results/halfspace_c=0_f=%0.8e.txt' % frequencies[idx], sep=\"\\t\")\n",
    "    rho_data[idx] = df[['rho_xy', 'rho_yx']]\n",
    "    phi_data[idx] = df[['phi_xy', 'phi_yx']]"
   ]
  },
  {
   "cell_type": "markdown",
   "metadata": {},
   "source": [
    "And finally plot TE and TM modes"
   ]
  },
  {
   "cell_type": "code",
   "execution_count": 79,
   "metadata": {},
   "outputs": [
    {
     "data": {
      "image/png": "[encoded data removed]",
      "text/plain": [
       "<Figure size 1296x864 with 8 Axes>"
      ]
     },
     "metadata": {
      "needs_background": "light"
     },
     "output_type": "display_data"
    }
   ],
   "source": [
    "fig, axes = plt.subplots(2, 2)\n",
    "p = axes[0,0].pcolormesh(r_y, np.log10(frequencies), rho_data[:,:,0], vmin=98, vmax = 102)\n",
    "fig.colorbar(p, ax=axes[0,0], label=r'$\\sigma$ (S/m)')\n",
    "axes[0,0].set_title('TE'), axes[0,0].set_xlabel('y (m)'), axes[0,0].set_ylabel('log10 f(Hz)')\n",
    "p = axes[0,1].pcolormesh(r_y, np.log10(frequencies), rho_data[:,:,1], vmin=98, vmax = 102)\n",
    "fig.colorbar(p, ax=axes[0,1], label=r'$\\sigma$ (S/m)')\n",
    "axes[0,1].set_title('TM'), axes[0,1].set_xlabel('y (m)'), axes[0,1].set_ylabel('log10 f(Hz)')\n",
    "p = axes[1,0].pcolormesh(r_y, np.log10(frequencies), phi_data[:,:,0], vmin=44, vmax = 46)\n",
    "fig.colorbar(p, ax=axes[1,0], label=r'$\\phi (^\\circ)$')\n",
    "axes[1,0].set_title('TE'), axes[1,0].set_xlabel('y (m)'), axes[1,0].set_ylabel('log10 f(Hz)')\n",
    "p = axes[1,1].pcolormesh(r_y, np.log10(frequencies), phi_data[:,:,1], vmin=-136, vmax = 134)\n",
    "fig.colorbar(p, ax=axes[1,1], label=r'$\\phi (^\\circ)$')\n",
    "axes[1,1].set_title('TM'), axes[1,1].set_xlabel('y (m)'), axes[1,1].set_ylabel('log10 f(Hz)')\n",
    "fig.set_size_inches(np.array(fig.get_size_inches()) * 3)"
   ]
  },
  {
   "cell_type": "markdown",
   "metadata": {},
   "source": [
    "As is anticipated, they look pretty boring, but match analytical values very well, confirming high accuracy. "
   ]
  }
 ],
 "metadata": {
  "kernelspec": {
   "display_name": "Python 3",
   "language": "python",
   "name": "python3"
  },
  "language_info": {
   "codemirror_mode": {
    "name": "ipython",
    "version": 3
   },
   "file_extension": ".py",
   "mimetype": "text/x-python",
   "name": "python",
   "nbconvert_exporter": "python",
   "pygments_lexer": "ipython3",
   "version": "3.7.3"
  }
 },
 "nbformat": 4,
 "nbformat_minor": 4
}
